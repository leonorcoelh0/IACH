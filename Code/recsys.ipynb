{
 "metadata": {
  "language_info": {
   "codemirror_mode": {
    "name": "ipython",
    "version": 3
   },
   "file_extension": ".py",
   "mimetype": "text/x-python",
   "name": "python",
   "nbconvert_exporter": "python",
   "pygments_lexer": "ipython3",
   "version": "3.7.9-final"
  },
  "orig_nbformat": 2,
  "kernelspec": {
   "name": "Python 3.7.9 64-bit",
   "display_name": "Python 3.7.9 64-bit",
   "metadata": {
    "interpreter": {
     "hash": "c290367dfb2a16a8c40d3b94fd7ff70b900983e7878008f1e82dfe9f0ce4600d"
    }
   }
  }
 },
 "nbformat": 4,
 "nbformat_minor": 2,
 "cells": [
  {
   "source": [
    "## Import"
   ],
   "cell_type": "markdown",
   "metadata": {}
  },
  {
   "cell_type": "code",
   "execution_count": 2,
   "metadata": {},
   "outputs": [],
   "source": [
    "import pandas as pd \n",
    "import numpy as np\n",
    "import matplotlib as plt\n",
    "import csv\n",
    "from IPython.display import display"
   ]
  },
  {
   "cell_type": "code",
   "execution_count": 3,
   "metadata": {},
   "outputs": [],
   "source": [
    "dir_dataset = '../Dataset/ml-latest-small/'\n",
    "\n",
    "genres = ['Action','Adventure','Animation','Children\\'s','Comedy','Crime','Documentary','Drama','Fantasy','Film-Noir','Horror','Musical','Mystery','Romance','Sci-Fi','Thriller','War','Western','(no genres listed)']"
   ]
  },
  {
   "source": [
    "## Read Info"
   ],
   "cell_type": "markdown",
   "metadata": {}
  },
  {
   "cell_type": "code",
   "execution_count": 4,
   "metadata": {},
   "outputs": [
    {
     "output_type": "display_data",
     "data": {
      "text/plain": "      movieId                                      title  \\\n1           1                           Toy Story (1995)   \n2           2                             Jumanji (1995)   \n3           3                    Grumpier Old Men (1995)   \n4           4                   Waiting to Exhale (1995)   \n5           5         Father of the Bride Part II (1995)   \n...       ...                                        ...   \n9738   193581  Black Butler: Book of the Atlantic (2017)   \n9739   193583               No Game No Life: Zero (2017)   \n9740   193585                               Flint (2017)   \n9741   193587        Bungo Stray Dogs: Dead Apple (2018)   \n9742   193609        Andrew Dice Clay: Dice Rules (1991)   \n\n                                                 genres  \n1     [Adventure, Animation, Children, Comedy, Fantasy]  \n2                        [Adventure, Children, Fantasy]  \n3                                     [Comedy, Romance]  \n4                              [Comedy, Drama, Romance]  \n5                                              [Comedy]  \n...                                                 ...  \n9738               [Action, Animation, Comedy, Fantasy]  \n9739                       [Animation, Comedy, Fantasy]  \n9740                                            [Drama]  \n9741                                [Action, Animation]  \n9742                                           [Comedy]  \n\n[9742 rows x 3 columns]",
      "text/html": "<div>\n<style scoped>\n    .dataframe tbody tr th:only-of-type {\n        vertical-align: middle;\n    }\n\n    .dataframe tbody tr th {\n        vertical-align: top;\n    }\n\n    .dataframe thead th {\n        text-align: right;\n    }\n</style>\n<table border=\"1\" class=\"dataframe\">\n  <thead>\n    <tr style=\"text-align: right;\">\n      <th></th>\n      <th>movieId</th>\n      <th>title</th>\n      <th>genres</th>\n    </tr>\n  </thead>\n  <tbody>\n    <tr>\n      <th>1</th>\n      <td>1</td>\n      <td>Toy Story (1995)</td>\n      <td>[Adventure, Animation, Children, Comedy, Fantasy]</td>\n    </tr>\n    <tr>\n      <th>2</th>\n      <td>2</td>\n      <td>Jumanji (1995)</td>\n      <td>[Adventure, Children, Fantasy]</td>\n    </tr>\n    <tr>\n      <th>3</th>\n      <td>3</td>\n      <td>Grumpier Old Men (1995)</td>\n      <td>[Comedy, Romance]</td>\n    </tr>\n    <tr>\n      <th>4</th>\n      <td>4</td>\n      <td>Waiting to Exhale (1995)</td>\n      <td>[Comedy, Drama, Romance]</td>\n    </tr>\n    <tr>\n      <th>5</th>\n      <td>5</td>\n      <td>Father of the Bride Part II (1995)</td>\n      <td>[Comedy]</td>\n    </tr>\n    <tr>\n      <th>...</th>\n      <td>...</td>\n      <td>...</td>\n      <td>...</td>\n    </tr>\n    <tr>\n      <th>9738</th>\n      <td>193581</td>\n      <td>Black Butler: Book of the Atlantic (2017)</td>\n      <td>[Action, Animation, Comedy, Fantasy]</td>\n    </tr>\n    <tr>\n      <th>9739</th>\n      <td>193583</td>\n      <td>No Game No Life: Zero (2017)</td>\n      <td>[Animation, Comedy, Fantasy]</td>\n    </tr>\n    <tr>\n      <th>9740</th>\n      <td>193585</td>\n      <td>Flint (2017)</td>\n      <td>[Drama]</td>\n    </tr>\n    <tr>\n      <th>9741</th>\n      <td>193587</td>\n      <td>Bungo Stray Dogs: Dead Apple (2018)</td>\n      <td>[Action, Animation]</td>\n    </tr>\n    <tr>\n      <th>9742</th>\n      <td>193609</td>\n      <td>Andrew Dice Clay: Dice Rules (1991)</td>\n      <td>[Comedy]</td>\n    </tr>\n  </tbody>\n</table>\n<p>9742 rows × 3 columns</p>\n</div>"
     },
     "metadata": {}
    }
   ],
   "source": [
    "def readFiles(fileName):\n",
    "    csv_file = open(dir_dataset+fileName, encoding=\"utf8\")\n",
    "    csv_reader = csv.reader(csv_file, delimiter=',')\n",
    "    data_np = np.array(list(csv_reader))\n",
    "\n",
    "    data = pd.DataFrame(data_np)\n",
    "   \n",
    "    return data\n",
    "\n",
    "ratings = readFiles('ratings.csv')\n",
    "ratings.columns = ['userId','movieId','rating','timestamp']\n",
    "ratings = ratings.drop('timestamp',axis=1)\n",
    "ratings = ratings.drop(0,axis=0)\n",
    "ratings['userId'] = ratings['userId'].astype(int)\n",
    "ratings['movieId'] = ratings['movieId'].astype(int)\n",
    "ratings['rating'] = ratings['rating'].astype(float)\n",
    "\n",
    "tags = readFiles('tags.csv')\n",
    "tags.columns = ['userId','movieId','tag','timestamp']\n",
    "tags = tags.drop('timestamp',axis=1)\n",
    "tags = tags.drop(0,axis=0)\n",
    "tags['userId'] = tags['userId'].astype(int)\n",
    "tags['movieId'] = tags['movieId'].astype(int)\n",
    "tags['tag'] = tags['tag'].str.lower()\n",
    "\n",
    "movies = readFiles('movies.csv')\n",
    "movies.columns = ['movieId','title','genres']\n",
    "movies = movies.drop(0,axis=0)\n",
    "movies['movieId'] = movies['movieId'].astype(int)\n",
    "movies['genres'] = movies['genres'].str.split('|')\n",
    "movies['genres'] = movies['genres'].apply(lambda x: np.array(x))\n",
    "\n",
    "# display(ratings)\n",
    "display(movies)\n",
    "# display(tags)"
   ]
  },
  {
   "source": [
    "## Study"
   ],
   "cell_type": "markdown",
   "metadata": {}
  },
  {
   "cell_type": "code",
   "execution_count": 5,
   "metadata": {},
   "outputs": [
    {
     "output_type": "display_data",
     "data": {
      "text/plain": "     userId  movieId  rating\n4         1       47     5.0\n5         1       50     5.0\n7         1      101     5.0\n9         1      151     5.0\n10        1      157     5.0\n..      ...      ...     ...\n224       1     3702     5.0\n225       1     3703     5.0\n226       1     3729     5.0\n229       1     3793     5.0\n232       1     5060     5.0\n\n[124 rows x 3 columns]",
      "text/html": "<div>\n<style scoped>\n    .dataframe tbody tr th:only-of-type {\n        vertical-align: middle;\n    }\n\n    .dataframe tbody tr th {\n        vertical-align: top;\n    }\n\n    .dataframe thead th {\n        text-align: right;\n    }\n</style>\n<table border=\"1\" class=\"dataframe\">\n  <thead>\n    <tr style=\"text-align: right;\">\n      <th></th>\n      <th>userId</th>\n      <th>movieId</th>\n      <th>rating</th>\n    </tr>\n  </thead>\n  <tbody>\n    <tr>\n      <th>4</th>\n      <td>1</td>\n      <td>47</td>\n      <td>5.0</td>\n    </tr>\n    <tr>\n      <th>5</th>\n      <td>1</td>\n      <td>50</td>\n      <td>5.0</td>\n    </tr>\n    <tr>\n      <th>7</th>\n      <td>1</td>\n      <td>101</td>\n      <td>5.0</td>\n    </tr>\n    <tr>\n      <th>9</th>\n      <td>1</td>\n      <td>151</td>\n      <td>5.0</td>\n    </tr>\n    <tr>\n      <th>10</th>\n      <td>1</td>\n      <td>157</td>\n      <td>5.0</td>\n    </tr>\n    <tr>\n      <th>...</th>\n      <td>...</td>\n      <td>...</td>\n      <td>...</td>\n    </tr>\n    <tr>\n      <th>224</th>\n      <td>1</td>\n      <td>3702</td>\n      <td>5.0</td>\n    </tr>\n    <tr>\n      <th>225</th>\n      <td>1</td>\n      <td>3703</td>\n      <td>5.0</td>\n    </tr>\n    <tr>\n      <th>226</th>\n      <td>1</td>\n      <td>3729</td>\n      <td>5.0</td>\n    </tr>\n    <tr>\n      <th>229</th>\n      <td>1</td>\n      <td>3793</td>\n      <td>5.0</td>\n    </tr>\n    <tr>\n      <th>232</th>\n      <td>1</td>\n      <td>5060</td>\n      <td>5.0</td>\n    </tr>\n  </tbody>\n</table>\n<p>124 rows × 3 columns</p>\n</div>"
     },
     "metadata": {}
    },
    {
     "output_type": "display_data",
     "data": {
      "text/plain": "      movieId                                 title  \\\n44         47           Seven (a.k.a. Se7en) (1995)   \n47         50            Usual Suspects, The (1995)   \n90        101                  Bottle Rocket (1996)   \n125       151                        Rob Roy (1995)   \n131       157                 Canadian Bacon (1995)   \n...       ...                                   ...   \n2765     3702                        Mad Max (1979)   \n2766     3703  Road Warrior, The (Mad Max 2) (1981)   \n2789     3729                          Shaft (1971)   \n2837     3793                          X-Men (2000)   \n3674     5060          M*A*S*H (a.k.a. MASH) (1970)   \n\n                                     genres  \n44                      [Mystery, Thriller]  \n47               [Crime, Mystery, Thriller]  \n90      [Adventure, Comedy, Crime, Romance]  \n125           [Action, Drama, Romance, War]  \n131                           [Comedy, War]  \n...                                     ...  \n2765            [Action, Adventure, Sci-Fi]  \n2766  [Action, Adventure, Sci-Fi, Thriller]  \n2789       [Action, Crime, Drama, Thriller]  \n2837            [Action, Adventure, Sci-Fi]  \n3674                   [Comedy, Drama, War]  \n\n[124 rows x 3 columns]",
      "text/html": "<div>\n<style scoped>\n    .dataframe tbody tr th:only-of-type {\n        vertical-align: middle;\n    }\n\n    .dataframe tbody tr th {\n        vertical-align: top;\n    }\n\n    .dataframe thead th {\n        text-align: right;\n    }\n</style>\n<table border=\"1\" class=\"dataframe\">\n  <thead>\n    <tr style=\"text-align: right;\">\n      <th></th>\n      <th>movieId</th>\n      <th>title</th>\n      <th>genres</th>\n    </tr>\n  </thead>\n  <tbody>\n    <tr>\n      <th>44</th>\n      <td>47</td>\n      <td>Seven (a.k.a. Se7en) (1995)</td>\n      <td>[Mystery, Thriller]</td>\n    </tr>\n    <tr>\n      <th>47</th>\n      <td>50</td>\n      <td>Usual Suspects, The (1995)</td>\n      <td>[Crime, Mystery, Thriller]</td>\n    </tr>\n    <tr>\n      <th>90</th>\n      <td>101</td>\n      <td>Bottle Rocket (1996)</td>\n      <td>[Adventure, Comedy, Crime, Romance]</td>\n    </tr>\n    <tr>\n      <th>125</th>\n      <td>151</td>\n      <td>Rob Roy (1995)</td>\n      <td>[Action, Drama, Romance, War]</td>\n    </tr>\n    <tr>\n      <th>131</th>\n      <td>157</td>\n      <td>Canadian Bacon (1995)</td>\n      <td>[Comedy, War]</td>\n    </tr>\n    <tr>\n      <th>...</th>\n      <td>...</td>\n      <td>...</td>\n      <td>...</td>\n    </tr>\n    <tr>\n      <th>2765</th>\n      <td>3702</td>\n      <td>Mad Max (1979)</td>\n      <td>[Action, Adventure, Sci-Fi]</td>\n    </tr>\n    <tr>\n      <th>2766</th>\n      <td>3703</td>\n      <td>Road Warrior, The (Mad Max 2) (1981)</td>\n      <td>[Action, Adventure, Sci-Fi, Thriller]</td>\n    </tr>\n    <tr>\n      <th>2789</th>\n      <td>3729</td>\n      <td>Shaft (1971)</td>\n      <td>[Action, Crime, Drama, Thriller]</td>\n    </tr>\n    <tr>\n      <th>2837</th>\n      <td>3793</td>\n      <td>X-Men (2000)</td>\n      <td>[Action, Adventure, Sci-Fi]</td>\n    </tr>\n    <tr>\n      <th>3674</th>\n      <td>5060</td>\n      <td>M*A*S*H (a.k.a. MASH) (1970)</td>\n      <td>[Comedy, Drama, War]</td>\n    </tr>\n  </tbody>\n</table>\n<p>124 rows × 3 columns</p>\n</div>"
     },
     "metadata": {}
    }
   ],
   "source": [
    "users = ratings['userId'].unique()\n",
    "user0 = ratings.loc[(ratings['userId'] == users[0]) & (ratings['rating'] == 5)]\n",
    "display(user0)\n",
    "movies0 = movies.loc[(movies['movieId'].isin(user0['movieId']))]\n",
    "genre0 = np.concatenate(movies0['genres'].to_numpy(), axis=0)\n",
    "\n",
    "unique, counts = np.unique(genre0, return_counts=True)\n",
    "ocur = pd.DataFrame({'genre': unique, 'count': counts})\n",
    "ocur = ocur.sort_values(by=['count'],ascending=False)\n",
    "display(movies0)"
   ]
  }
 ]
}